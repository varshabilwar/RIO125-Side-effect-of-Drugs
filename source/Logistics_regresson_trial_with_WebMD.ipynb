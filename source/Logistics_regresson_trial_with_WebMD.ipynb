{
 "cells": [
  {
   "cell_type": "code",
   "execution_count": 13,
   "id": "9d85aa0e",
   "metadata": {},
   "outputs": [
    {
     "name": "stdout",
     "output_type": "stream",
     "text": [
      "               Age      Condition        Date                          Drug  \\\n",
      "0       75 or over    Stuffy Nose   9/21/2014                  25dph-7.5peh   \n",
      "1            25-34  Cold Symptoms   1/13/2011                  25dph-7.5peh   \n",
      "2            65-74          Other   7/16/2012  warfarin (bulk) 100 % powder   \n",
      "3       75 or over          Other   9/23/2010  warfarin (bulk) 100 % powder   \n",
      "4            35-44          Other    1/6/2009  warfarin (bulk) 100 % powder   \n",
      "...            ...            ...         ...                           ...   \n",
      "362801       55-64   Stop Smoking  11/14/2008                       chantix   \n",
      "362802                      Other  11/14/2008                       chantix   \n",
      "362803       25-34   Stop Smoking  11/13/2008                       chantix   \n",
      "362804       55-64   Stop Smoking  11/13/2008                       chantix   \n",
      "362805       45-54   Stop Smoking  11/12/2008                       chantix   \n",
      "\n",
      "        DrugId  EaseofUse  Effectiveness  \\\n",
      "0       146724          5              5   \n",
      "1       146724          5              5   \n",
      "2       144731          2              3   \n",
      "3       144731          2              2   \n",
      "4       144731          1              1   \n",
      "...        ...        ...            ...   \n",
      "362801  144470          5              5   \n",
      "362802  144470          2              3   \n",
      "362803  144470          2              4   \n",
      "362804  144470          5              5   \n",
      "362805  144470          4              5   \n",
      "\n",
      "                                                  Reviews  Satisfaction  \\\n",
      "0       I'm a retired physician and of all the meds I ...             5   \n",
      "1       cleared me right up even with my throat hurtin...             5   \n",
      "2       why did my PTINR go from a normal of 2.5 to ov...             3   \n",
      "3                            FALLING AND DON'T REALISE IT             1   \n",
      "4       My grandfather was prescribed this medication ...             1   \n",
      "...                                                   ...           ...   \n",
      "362801  I took the whole 12 weeks.I could have stopped...             5   \n",
      "362802  My dad strated taking Chantix about 1 month ag...             1   \n",
      "362803  As long as I was on chantix, I didn't smoke.  ...             2   \n",
      "362804  Started this medication Oct 5th 2008. Haven't ...             5   \n",
      "362805  One year ago, I tried Chantix and had to stop ...             5   \n",
      "\n",
      "           Sex                                              Sides  UsefulCount  \n",
      "0         Male  Drowsiness,  dizziness ,  dry mouth /nose/thro...            0  \n",
      "1       Female  Drowsiness,  dizziness ,  dry mouth /nose/thro...            1  \n",
      "2       Female                                                               0  \n",
      "3       Female                                                               0  \n",
      "4         Male                                                               1  \n",
      "...        ...                                                ...          ...  \n",
      "362801  Female  Nausea ,  headache ,  vomiting , drowsiness, g...            2  \n",
      "362802          Nausea ,  headache ,  vomiting , drowsiness, g...           16  \n",
      "362803  Female  Nausea ,  headache ,  vomiting , drowsiness, g...            3  \n",
      "362804    Male  Nausea ,  headache ,  vomiting , drowsiness, g...            1  \n",
      "362805  Female  Nausea ,  headache ,  vomiting , drowsiness, g...            3  \n",
      "\n",
      "[362806 rows x 12 columns]\n"
     ]
    },
    {
     "data": {
      "text/plain": [
       "<bound method NDFrame.describe of                Age      Condition        Date                          Drug  \\\n",
       "0       75 or over    Stuffy Nose   9/21/2014                  25dph-7.5peh   \n",
       "1            25-34  Cold Symptoms   1/13/2011                  25dph-7.5peh   \n",
       "2            65-74          Other   7/16/2012  warfarin (bulk) 100 % powder   \n",
       "3       75 or over          Other   9/23/2010  warfarin (bulk) 100 % powder   \n",
       "4            35-44          Other    1/6/2009  warfarin (bulk) 100 % powder   \n",
       "...            ...            ...         ...                           ...   \n",
       "362801       55-64   Stop Smoking  11/14/2008                       chantix   \n",
       "362802                      Other  11/14/2008                       chantix   \n",
       "362803       25-34   Stop Smoking  11/13/2008                       chantix   \n",
       "362804       55-64   Stop Smoking  11/13/2008                       chantix   \n",
       "362805       45-54   Stop Smoking  11/12/2008                       chantix   \n",
       "\n",
       "        DrugId  EaseofUse  Effectiveness  \\\n",
       "0       146724          5              5   \n",
       "1       146724          5              5   \n",
       "2       144731          2              3   \n",
       "3       144731          2              2   \n",
       "4       144731          1              1   \n",
       "...        ...        ...            ...   \n",
       "362801  144470          5              5   \n",
       "362802  144470          2              3   \n",
       "362803  144470          2              4   \n",
       "362804  144470          5              5   \n",
       "362805  144470          4              5   \n",
       "\n",
       "                                                  Reviews  Satisfaction  \\\n",
       "0       I'm a retired physician and of all the meds I ...             5   \n",
       "1       cleared me right up even with my throat hurtin...             5   \n",
       "2       why did my PTINR go from a normal of 2.5 to ov...             3   \n",
       "3                            FALLING AND DON'T REALISE IT             1   \n",
       "4       My grandfather was prescribed this medication ...             1   \n",
       "...                                                   ...           ...   \n",
       "362801  I took the whole 12 weeks.I could have stopped...             5   \n",
       "362802  My dad strated taking Chantix about 1 month ag...             1   \n",
       "362803  As long as I was on chantix, I didn't smoke.  ...             2   \n",
       "362804  Started this medication Oct 5th 2008. Haven't ...             5   \n",
       "362805  One year ago, I tried Chantix and had to stop ...             5   \n",
       "\n",
       "           Sex                                              Sides  UsefulCount  \n",
       "0         Male  Drowsiness,  dizziness ,  dry mouth /nose/thro...            0  \n",
       "1       Female  Drowsiness,  dizziness ,  dry mouth /nose/thro...            1  \n",
       "2       Female                                                               0  \n",
       "3       Female                                                               0  \n",
       "4         Male                                                               1  \n",
       "...        ...                                                ...          ...  \n",
       "362801  Female  Nausea ,  headache ,  vomiting , drowsiness, g...            2  \n",
       "362802          Nausea ,  headache ,  vomiting , drowsiness, g...           16  \n",
       "362803  Female  Nausea ,  headache ,  vomiting , drowsiness, g...            3  \n",
       "362804    Male  Nausea ,  headache ,  vomiting , drowsiness, g...            1  \n",
       "362805  Female  Nausea ,  headache ,  vomiting , drowsiness, g...            3  \n",
       "\n",
       "[362806 rows x 12 columns]>"
      ]
     },
     "execution_count": 13,
     "metadata": {},
     "output_type": "execute_result"
    }
   ],
   "source": [
    "import pandas as pd\n",
    "iData_WebMD = pd.read_csv (r\"C:\\Users\\Varsha.bilwar\\Desktop\\archive\\webmd.csv\")\n",
    "iData_WebMD.drop( 'Condition',axis=1)\n",
    "print(iData_WebMD)\n",
    "iData_WebMD.head()\n",
    "iData_WebMD.shape\n",
    "iData_WebMD.describe"
   ]
  },
  {
   "cell_type": "code",
   "execution_count": 16,
   "id": "4c4163a6",
   "metadata": {},
   "outputs": [
    {
     "name": "stdout",
     "output_type": "stream",
     "text": [
      "\n",
      "X_train\n",
      "\n",
      "86000     11285\n",
      "308592     3721\n",
      "98222      8674\n",
      "356152     4067\n",
      "131152     5869\n",
      "Name: DrugId, dtype: int64\n",
      "\n",
      "\n",
      "(290244,)\n",
      "\n",
      "X_test:\n",
      "\n",
      "59865      1025\n",
      "5690       6616\n",
      "202865     4497\n",
      "100601    13706\n",
      "5336      16188\n",
      "Name: DrugId, dtype: int64\n",
      "\n",
      "\n",
      "(72562,)\n",
      "\n",
      "Y_test:\n",
      "\n",
      "86000     4\n",
      "308592    1\n",
      "98222     1\n",
      "356152    4\n",
      "131152    1\n",
      "Name: Satisfaction, dtype: int64\n",
      "\n",
      "\n",
      "(290244,)\n",
      "\n",
      "Y_test:\n",
      "\n",
      "59865     4\n",
      "5690      1\n",
      "202865    5\n",
      "100601    3\n",
      "5336      1\n",
      "Name: Satisfaction, dtype: int64\n",
      "\n",
      "\n",
      "(72562,)\n"
     ]
    }
   ],
   "source": [
    "from sklearn.model_selection import train_test_split\n",
    "y = iData_WebMD.Satisfaction\n",
    "X = iData_WebMD.DrugId\n",
    "X_train, X_test, y_train, y_test = train_test_split( X, y , test_size=0.2)\n",
    "print(\"\\nX_train\\n\")\n",
    "print(X_train.head())\n",
    "print(\"\\n\")\n",
    "print(X_train.shape)\n",
    "\n",
    "print(\"\\nX_test:\\n\")\n",
    "print(X_test.head())\n",
    "print(\"\\n\")\n",
    "print(X_test.shape)\n",
    "\n",
    "print(\"\\nY_test:\\n\")\n",
    "print(y_train.head())\n",
    "print(\"\\n\")\n",
    "print(y_train.shape)\n",
    "\n",
    "print(\"\\nY_test:\\n\")\n",
    "print(y_test.head())\n",
    "print(\"\\n\")\n",
    "print(y_test.shape)"
   ]
  },
  {
   "cell_type": "code",
   "execution_count": 19,
   "id": "e82440c1",
   "metadata": {},
   "outputs": [
    {
     "data": {
      "text/plain": [
       "LogisticRegression()"
      ]
     },
     "execution_count": 19,
     "metadata": {},
     "output_type": "execute_result"
    }
   ],
   "source": [
    "from sklearn.linear_model import LogisticRegression\n",
    "classifier = LogisticRegression()\n",
    "classifier.fit(np.array(X_train).reshape(-1,1),y_train)"
   ]
  },
  {
   "cell_type": "code",
   "execution_count": 25,
   "id": "8e6caa84",
   "metadata": {},
   "outputs": [
    {
     "name": "stdout",
     "output_type": "stream",
     "text": [
      "[1 1 1 ... 1 1 1]\n"
     ]
    }
   ],
   "source": [
    "y_pred = classifier.predict(np.array(X_test).reshape(-1,1))\n",
    "print( y_pred )"
   ]
  },
  {
   "cell_type": "code",
   "execution_count": 28,
   "id": "f6b777e2",
   "metadata": {},
   "outputs": [
    {
     "name": "stdout",
     "output_type": "stream",
     "text": [
      "[[20076     0     0     0    16]\n",
      " [ 7247     0     0     0    11]\n",
      " [10240     0     0     0    12]\n",
      " [12487     0     0     0    20]\n",
      " [22425     0     0     0    28]]\n"
     ]
    }
   ],
   "source": [
    "from sklearn.metrics import confusion_matrix\n",
    "cm = confusion_matrix(y_test, y_pred)\n",
    "print( cm )"
   ]
  }
 ],
 "metadata": {
  "kernelspec": {
   "display_name": "Python 3",
   "language": "python",
   "name": "python3"
  },
  "language_info": {
   "codemirror_mode": {
    "name": "ipython",
    "version": 3
   },
   "file_extension": ".py",
   "mimetype": "text/x-python",
   "name": "python",
   "nbconvert_exporter": "python",
   "pygments_lexer": "ipython3",
   "version": "3.8.8"
  }
 },
 "nbformat": 4,
 "nbformat_minor": 5
}
